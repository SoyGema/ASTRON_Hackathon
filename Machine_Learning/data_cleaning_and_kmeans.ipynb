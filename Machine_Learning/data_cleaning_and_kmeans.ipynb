{
 "cells": [
  {
   "cell_type": "code",
   "execution_count": 24,
   "metadata": {},
   "outputs": [
    {
     "data": {
      "text/plain": [
       "Index(['Gleam_name', 'RA_gleam', 'Dec_gleam', 'S_p', 'S_p_error', 'nu_p',\n",
       "       'nu_p_error', 'alpha_thin', 'alpha_thin_error', 'alpha_thick',\n",
       "       'alpha_thick_error', 'alpha_low', 'alpha_low_error', 'alpha_high',\n",
       "       'alpha_high_error', 'q', 'q_error', 'z', 'z_ref', 'S_200',\n",
       "       'S_200_error', 'RA_vlssr', 'Dec_vlssr', 'S_vlssr', 'S_vlssr_error',\n",
       "       'TGSS-ADR1_name', 'RA_tgss', 'Dec_tgss', 'S_tgss', 'S_tgss_error',\n",
       "       'MRC_name', 'RA_mrc', 'Dec_mrc', 'S_mrc', 'S_mrc_error', 'RA_sumss',\n",
       "       'Dec_sumss', 'S_sumss', 'S_summs_error', 'RA_nvss', 'Dec_nvss',\n",
       "       'S_nvss', 'S_nvss_error', 'S_76', 'S_76_err', 'S_84', 'S_84_err',\n",
       "       'S_92', 'S_92_err', 'S_99', 'S_99_err', 'S_107', 'S_107_err', 'S_115',\n",
       "       'S_115_err', 'S_122', 'S_122_err', 'S_130', 'S_130_err', 'S_143',\n",
       "       'S_143_err', 'S_151', 'S_151_err', 'S_158', 'S_158_err', 'S_166',\n",
       "       'S_166_err', 'S_174', 'S_174_err', 'S_181', 'S_181_err', 'S_189',\n",
       "       'S_189_err', 'S_197', 'S_197_err', 'S_204', 'S_204_err', 'S_212',\n",
       "       'S_212_err', 'S_220', 'S_220_err', 'S_227', 'S_227_err'],\n",
       "      dtype='object')"
      ]
     },
     "execution_count": 24,
     "metadata": {},
     "output_type": "execute_result"
    }
   ],
   "source": [
    "import numpy as np\n",
    "import pandas as pd\n",
    "from astropy.table import Table\n",
    "\n",
    "\n",
    "dat = Table.read('high_low_freq_peakedspectrum_table.fits', format='fits')\n",
    "df = dat.to_pandas()\n",
    "df.columns"
   ]
  },
  {
   "cell_type": "code",
   "execution_count": 33,
   "metadata": {},
   "outputs": [
    {
     "data": {
      "text/html": [
       "<div>\n",
       "<style scoped>\n",
       "    .dataframe tbody tr th:only-of-type {\n",
       "        vertical-align: middle;\n",
       "    }\n",
       "\n",
       "    .dataframe tbody tr th {\n",
       "        vertical-align: top;\n",
       "    }\n",
       "\n",
       "    .dataframe thead th {\n",
       "        text-align: right;\n",
       "    }\n",
       "</style>\n",
       "<table border=\"1\" class=\"dataframe\">\n",
       "  <thead>\n",
       "    <tr style=\"text-align: right;\">\n",
       "      <th></th>\n",
       "      <th>S_p</th>\n",
       "      <th>nu_p</th>\n",
       "      <th>alpha_thin</th>\n",
       "      <th>alpha_thick</th>\n",
       "      <th>RA_gleam</th>\n",
       "      <th>Dec_gleam</th>\n",
       "    </tr>\n",
       "  </thead>\n",
       "  <tbody>\n",
       "    <tr>\n",
       "      <th>0</th>\n",
       "      <td>0.577581</td>\n",
       "      <td>215.0</td>\n",
       "      <td>-1.069291</td>\n",
       "      <td>1.547214</td>\n",
       "      <td>0.104892</td>\n",
       "      <td>-12.728163</td>\n",
       "    </tr>\n",
       "    <tr>\n",
       "      <th>1</th>\n",
       "      <td>0.913113</td>\n",
       "      <td>163.0</td>\n",
       "      <td>-0.513778</td>\n",
       "      <td>2.327531</td>\n",
       "      <td>0.248560</td>\n",
       "      <td>-75.200401</td>\n",
       "    </tr>\n",
       "    <tr>\n",
       "      <th>2</th>\n",
       "      <td>1.874043</td>\n",
       "      <td>108.0</td>\n",
       "      <td>-0.741640</td>\n",
       "      <td>0.852812</td>\n",
       "      <td>0.357714</td>\n",
       "      <td>-13.441781</td>\n",
       "    </tr>\n",
       "    <tr>\n",
       "      <th>3</th>\n",
       "      <td>0.632126</td>\n",
       "      <td>134.0</td>\n",
       "      <td>-0.477303</td>\n",
       "      <td>2.621473</td>\n",
       "      <td>0.643892</td>\n",
       "      <td>-5.388638</td>\n",
       "    </tr>\n",
       "    <tr>\n",
       "      <th>4</th>\n",
       "      <td>1.474146</td>\n",
       "      <td>132.0</td>\n",
       "      <td>-0.766510</td>\n",
       "      <td>0.477907</td>\n",
       "      <td>0.675695</td>\n",
       "      <td>-50.413261</td>\n",
       "    </tr>\n",
       "  </tbody>\n",
       "</table>\n",
       "</div>"
      ],
      "text/plain": [
       "        S_p   nu_p  alpha_thin  alpha_thick  RA_gleam  Dec_gleam\n",
       "0  0.577581  215.0   -1.069291     1.547214  0.104892 -12.728163\n",
       "1  0.913113  163.0   -0.513778     2.327531  0.248560 -75.200401\n",
       "2  1.874043  108.0   -0.741640     0.852812  0.357714 -13.441781\n",
       "3  0.632126  134.0   -0.477303     2.621473  0.643892  -5.388638\n",
       "4  1.474146  132.0   -0.766510     0.477907  0.675695 -50.413261"
      ]
     },
     "execution_count": 33,
     "metadata": {},
     "output_type": "execute_result"
    }
   ],
   "source": [
    "col_names=['S_p','nu_p', 'alpha_thin',  'alpha_thick', 'RA_gleam', 'Dec_gleam']\n",
    "X=df[col_names]\n",
    "X=X.dropna()\n",
    "X.head()\n",
    "#X.to_csv('high_low_freq_peakedspectrum_table_cleaned.csv')"
   ]
  },
  {
   "cell_type": "code",
   "execution_count": 37,
   "metadata": {},
   "outputs": [
    {
     "data": {
      "text/plain": [
       "KMeans(algorithm='auto', copy_x=True, init='k-means++', max_iter=5000,\n",
       "    n_clusters=2, n_init=10, n_jobs=1, precompute_distances='auto',\n",
       "    random_state=None, tol=0.0001, verbose=0)"
      ]
     },
     "execution_count": 37,
     "metadata": {},
     "output_type": "execute_result"
    }
   ],
   "source": [
    "from sklearn import cluster,preprocessing\n",
    "\n",
    "kmeans_3clusters=cluster.KMeans(n_clusters=2, max_iter=5000)\n",
    "kmeans_3clusters.fit(X)"
   ]
  },
  {
   "cell_type": "code",
   "execution_count": 38,
   "metadata": {},
   "outputs": [],
   "source": [
    "import seaborn as sns\n",
    "import matplotlib.pyplot as plt\n",
    "%matplotlib tk\n",
    "\n",
    "labeled_data = X.copy()\n",
    "labeled_data['label']=kmeans_3clusters.labels_\n",
    "np.unique(labeled_data['label'])\n",
    "g = sns.pairplot(labeled_data,hue='label', palette='colorblind',size=6,markers=['o','x'])\n",
    "plt.show()\n"
   ]
  },
  {
   "cell_type": "code",
   "execution_count": null,
   "metadata": {},
   "outputs": [],
   "source": []
  }
 ],
 "metadata": {
  "kernelspec": {
   "display_name": "Python 3",
   "language": "python",
   "name": "python3"
  },
  "language_info": {
   "codemirror_mode": {
    "name": "ipython",
    "version": 3
   },
   "file_extension": ".py",
   "mimetype": "text/x-python",
   "name": "python",
   "nbconvert_exporter": "python",
   "pygments_lexer": "ipython3",
   "version": "3.6.4"
  }
 },
 "nbformat": 4,
 "nbformat_minor": 2
}
